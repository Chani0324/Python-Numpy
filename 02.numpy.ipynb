{
 "cells": [
  {
   "cell_type": "markdown",
   "metadata": {},
   "source": [
    "### 배열 연결"
   ]
  },
  {
   "cell_type": "code",
   "execution_count": 1,
   "metadata": {},
   "outputs": [],
   "source": [
    "import numpy as np"
   ]
  },
  {
   "cell_type": "code",
   "execution_count": 2,
   "metadata": {},
   "outputs": [
    {
     "data": {
      "text/plain": [
       "array([1, 3, 5, 2, 4, 6])"
      ]
     },
     "execution_count": 2,
     "metadata": {},
     "output_type": "execute_result"
    }
   ],
   "source": [
    "a1 = np.array([1, 3, 5])\n",
    "b1 = np.array([2, 4, 6])\n",
    "np.concatenate([a1, b1])"
   ]
  },
  {
   "cell_type": "code",
   "execution_count": 3,
   "metadata": {},
   "outputs": [
    {
     "data": {
      "text/plain": [
       "array([[1, 2, 3],\n",
       "       [4, 5, 6],\n",
       "       [1, 2, 3],\n",
       "       [4, 5, 6]])"
      ]
     },
     "execution_count": 3,
     "metadata": {},
     "output_type": "execute_result"
    }
   ],
   "source": [
    "a2 =  np.array([[1, 2, 3],\n",
    "                [4, 5, 6]])\n",
    "np.concatenate([a2, a2])"
   ]
  },
  {
   "cell_type": "code",
   "execution_count": 4,
   "metadata": {},
   "outputs": [
    {
     "data": {
      "text/plain": [
       "array([[1, 2, 3, 1, 2, 3],\n",
       "       [4, 5, 6, 4, 5, 6]])"
      ]
     },
     "execution_count": 4,
     "metadata": {},
     "output_type": "execute_result"
    }
   ],
   "source": [
    "a2 =  np.array([[1, 2, 3],\n",
    "                [4, 5, 6]])\n",
    "np.concatenate([a2, a2], axis=1)"
   ]
  },
  {
   "cell_type": "code",
   "execution_count": 5,
   "metadata": {},
   "outputs": [
    {
     "data": {
      "text/plain": [
       "array([[1, 2, 3],\n",
       "       [4, 5, 6],\n",
       "       [1, 2, 3],\n",
       "       [4, 5, 6]])"
      ]
     },
     "execution_count": 5,
     "metadata": {},
     "output_type": "execute_result"
    }
   ],
   "source": [
    "np.vstack([a2, a2])"
   ]
  },
  {
   "cell_type": "code",
   "execution_count": 6,
   "metadata": {},
   "outputs": [
    {
     "data": {
      "text/plain": [
       "array([[1, 2, 3, 1, 2, 3],\n",
       "       [4, 5, 6, 4, 5, 6]])"
      ]
     },
     "execution_count": 6,
     "metadata": {},
     "output_type": "execute_result"
    }
   ],
   "source": [
    "np.hstack([a2, a2])"
   ]
  },
  {
   "cell_type": "code",
   "execution_count": 7,
   "metadata": {},
   "outputs": [
    {
     "data": {
      "text/plain": [
       "array([[[1, 1],\n",
       "        [2, 2],\n",
       "        [3, 3]],\n",
       "\n",
       "       [[4, 4],\n",
       "        [5, 5],\n",
       "        [6, 6]]])"
      ]
     },
     "execution_count": 7,
     "metadata": {},
     "output_type": "execute_result"
    }
   ],
   "source": [
    "np.dstack([a2, a2]) # 3차원"
   ]
  },
  {
   "cell_type": "code",
   "execution_count": 8,
   "metadata": {},
   "outputs": [
    {
     "data": {
      "text/plain": [
       "array([[[1, 2, 3],\n",
       "        [4, 5, 6]],\n",
       "\n",
       "       [[1, 2, 3],\n",
       "        [4, 5, 6]]])"
      ]
     },
     "execution_count": 8,
     "metadata": {},
     "output_type": "execute_result"
    }
   ],
   "source": [
    "np.stack([a2, a2]) # 3차원. concatenate와 stack 차이 png파일로 저장."
   ]
  },
  {
   "cell_type": "markdown",
   "metadata": {},
   "source": [
    "### 배열 분할"
   ]
  },
  {
   "cell_type": "code",
   "execution_count": 13,
   "metadata": {},
   "outputs": [
    {
     "name": "stdout",
     "output_type": "stream",
     "text": [
      "[0 1 2 3 4 5 6 7 8 9]\n",
      "[0 1 2 3 4] [5 6 7 8 9]\n",
      "[0 1 2] [3 4 5] [6 7 8 9]\n"
     ]
    }
   ],
   "source": [
    "a1 = np.arange(0, 10)\n",
    "print(a1)\n",
    "b1, c1 = np.split(a1, [5])\n",
    "print(b1, c1)\n",
    "b1, c1, d1 = np.split(a1, [3, 6]) # 기준이 되는 index로 split\n",
    "print(b1, c1, d1)"
   ]
  },
  {
   "cell_type": "code",
   "execution_count": 14,
   "metadata": {},
   "outputs": [
    {
     "name": "stdout",
     "output_type": "stream",
     "text": [
      "[[1 2 3]\n",
      " [4 5 6]\n",
      " [7 8 9]]\n",
      "[[1 2 3]\n",
      " [4 5 6]]\n",
      "[[7 8 9]]\n"
     ]
    }
   ],
   "source": [
    "a2 = np.arange(1, 10).reshape(3, 3)\n",
    "print(a2)\n",
    "b2, c2 = np.vsplit(a2, [2])\n",
    "print(b2)\n",
    "print(c2)"
   ]
  },
  {
   "cell_type": "code",
   "execution_count": 15,
   "metadata": {},
   "outputs": [
    {
     "name": "stdout",
     "output_type": "stream",
     "text": [
      "[[1 2 3]\n",
      " [4 5 6]\n",
      " [7 8 9]]\n",
      "[[1 2]\n",
      " [4 5]\n",
      " [7 8]]\n",
      "[[3]\n",
      " [6]\n",
      " [9]]\n"
     ]
    }
   ],
   "source": [
    "a2 = np.arange(1, 10).reshape(3, 3)\n",
    "print(a2)\n",
    "b2, c2 = np.hsplit(a2, [2])\n",
    "print(b2)\n",
    "print(c2)"
   ]
  },
  {
   "cell_type": "code",
   "execution_count": 17,
   "metadata": {},
   "outputs": [
    {
     "name": "stdout",
     "output_type": "stream",
     "text": [
      "[[[ 1  2  3]\n",
      "  [ 4  5  6]\n",
      "  [ 7  8  9]]\n",
      "\n",
      " [[10 11 12]\n",
      "  [13 14 15]\n",
      "  [16 17 18]]\n",
      "\n",
      " [[19 20 21]\n",
      "  [22 23 24]\n",
      "  [25 26 27]]]\n",
      "[[[ 1  2]\n",
      "  [ 4  5]\n",
      "  [ 7  8]]\n",
      "\n",
      " [[10 11]\n",
      "  [13 14]\n",
      "  [16 17]]\n",
      "\n",
      " [[19 20]\n",
      "  [22 23]\n",
      "  [25 26]]]\n",
      "[[[ 3]\n",
      "  [ 6]\n",
      "  [ 9]]\n",
      "\n",
      " [[12]\n",
      "  [15]\n",
      "  [18]]\n",
      "\n",
      " [[21]\n",
      "  [24]\n",
      "  [27]]]\n"
     ]
    }
   ],
   "source": [
    "a3 = np.arange(1, 28).reshape(3, 3, 3) # matrix를 면이라고 생각하고 이미지화 해보면 편함.\n",
    "print(a3)\n",
    "b3, c3 = np.dsplit(a3, [2])\n",
    "print(b3)\n",
    "print(c3)"
   ]
  },
  {
   "cell_type": "markdown",
   "metadata": {},
   "source": [
    "### 배열 연산\n",
    "- Numpy의 배열 연산은 벡터화 연산 사용\n",
    "- 일반적으로 Numpy의 범용함수를 통해 구현\n",
    "- 배열 요소에 대한 반복적인 계산을 효율적으로 수행"
   ]
  },
  {
   "cell_type": "markdown",
   "metadata": {},
   "source": [
    "### Broadcasting"
   ]
  },
  {
   "cell_type": "code",
   "execution_count": 26,
   "metadata": {},
   "outputs": [
    {
     "name": "stdout",
     "output_type": "stream",
     "text": [
      "[1 2 3]\n",
      "[6 7 8]\n",
      "[[1 2 3]\n",
      " [4 5 6]\n",
      " [7 8 9]]\n",
      "[[ 2  4  6]\n",
      " [ 5  7  9]\n",
      " [ 8 10 12]]\n",
      "[[1]\n",
      " [2]\n",
      " [3]]\n",
      "[[2 3 4]\n",
      " [3 4 5]\n",
      " [4 5 6]]\n"
     ]
    }
   ],
   "source": [
    "# a1 = np.arange(1, 4).reshape(1, 3)\n",
    "a1 = np.array([1, 2, 3])\n",
    "print(a1)\n",
    "print(a1 + 5)\n",
    "\n",
    "a2 = np.arange(1, 10).reshape(3, 3)\n",
    "print(a2)\n",
    "print(a1 + a2)\n",
    "\n",
    "b2 = np.array([1, 2, 3]).reshape(3, 1)\n",
    "print(b2)\n",
    "print(a1 + b2)"
   ]
  },
  {
   "cell_type": "markdown",
   "metadata": {},
   "source": [
    "### 산술 연산"
   ]
  },
  {
   "cell_type": "code",
   "execution_count": 29,
   "metadata": {},
   "outputs": [
    {
     "name": "stdout",
     "output_type": "stream",
     "text": [
      "[1 2 3 4 5 6 7 8 9]\n",
      "[ 2  3  4  5  6  7  8  9 10]\n",
      "[11 12 13 14 15 16 17 18 19]\n",
      "[-1 -2 -3 -4 -5 -6 -7 -8 -9]\n"
     ]
    }
   ],
   "source": [
    "a1 = np.arange(1, 10)\n",
    "print(a1)\n",
    "print(a1 + 1)\n",
    "print(np.add(a1, 10))\n",
    "print(-a1)"
   ]
  },
  {
   "cell_type": "code",
   "execution_count": 31,
   "metadata": {},
   "outputs": [
    {
     "name": "stdout",
     "output_type": "stream",
     "text": [
      "[1 2 3 4 5 6 7 8 9]\n",
      "[6 9 2 1 6 5 5 4 2]\n",
      "[ 6 18  6  4 30 30 35 32 18]\n"
     ]
    }
   ],
   "source": [
    "a1 = np.arange(1, 10)\n",
    "b1 = np.random.randint(1, 10, size=9)\n",
    "print(a1)\n",
    "print(b1)\n",
    "print(a1 * b1)"
   ]
  },
  {
   "cell_type": "code",
   "execution_count": 34,
   "metadata": {},
   "outputs": [
    {
     "name": "stdout",
     "output_type": "stream",
     "text": [
      "[[1 2 3]\n",
      " [4 5 6]\n",
      " [7 8 9]]\n",
      "[[6 4 1]\n",
      " [4 2 6]\n",
      " [4 6 9]]\n",
      "[[ 6  8  3]\n",
      " [16 10 36]\n",
      " [28 48 81]]\n"
     ]
    }
   ],
   "source": [
    "a2 = np.arange(1, 10).reshape(3, 3)\n",
    "b2 = np.random.randint(1, 10, size=(3, 3))\n",
    "print(a2)\n",
    "print(b2)\n",
    "print(a2 * b2)"
   ]
  },
  {
   "cell_type": "code",
   "execution_count": 36,
   "metadata": {},
   "outputs": [
    {
     "name": "stdout",
     "output_type": "stream",
     "text": [
      "[ -6 -10  -3  -7  -6]\n",
      "[ 6 10  3  7  6]\n"
     ]
    }
   ],
   "source": [
    "a1 = np.random.randint(-10, 0, size=5)\n",
    "print(a1)\n",
    "print(np.abs(a1))"
   ]
  },
  {
   "cell_type": "code",
   "execution_count": 38,
   "metadata": {},
   "outputs": [
    {
     "name": "stdout",
     "output_type": "stream",
     "text": [
      "[6 8 4 9 3]\n",
      "[ 403.42879349 2980.95798704   54.59815003 8103.08392758   20.08553692]\n",
      "[ 64. 256.  16. 512.   8.]\n",
      "[36 64 16 81  9]\n"
     ]
    }
   ],
   "source": [
    "a1 = np.random.randint(1, 10, size=5)\n",
    "print(a1)\n",
    "print(np.exp(a1))\n",
    "print(np.exp2(a1))\n",
    "print(np.power(a1, 2))"
   ]
  },
  {
   "cell_type": "code",
   "execution_count": 41,
   "metadata": {},
   "outputs": [
    {
     "name": "stdout",
     "output_type": "stream",
     "text": [
      "[6 8 4 9 3]\n",
      "[1.79175947 2.07944154 1.38629436 2.19722458 1.09861229]\n",
      "[2.5849625 3.        2.        3.169925  1.5849625]\n",
      "[0.77815125 0.90308999 0.60205999 0.95424251 0.47712125]\n"
     ]
    }
   ],
   "source": [
    "print(a1)\n",
    "print(np.log(a1))\n",
    "print(np.log2(a1))\n",
    "print(np.log10(a1))"
   ]
  },
  {
   "cell_type": "markdown",
   "metadata": {},
   "source": [
    "### 삼각함수"
   ]
  },
  {
   "cell_type": "code",
   "execution_count": 42,
   "metadata": {},
   "outputs": [
    {
     "name": "stdout",
     "output_type": "stream",
     "text": [
      "[0.         1.57079633 3.14159265]\n",
      "[0.0000000e+00 1.0000000e+00 1.2246468e-16]\n",
      "[ 1.000000e+00  6.123234e-17 -1.000000e+00]\n",
      "[ 0.00000000e+00  1.63312394e+16 -1.22464680e-16]\n"
     ]
    }
   ],
   "source": [
    "t = np.linspace(0, np.pi, 3)\n",
    "print(t)\n",
    "print(np.sin(t))\n",
    "print(np.cos(t))\n",
    "print(np.tan(t))"
   ]
  },
  {
   "cell_type": "code",
   "execution_count": 43,
   "metadata": {},
   "outputs": [
    {
     "name": "stdout",
     "output_type": "stream",
     "text": [
      "[-1, 0, 1]\n",
      "[-1.57079633  0.          1.57079633]\n",
      "[3.14159265 1.57079633 0.        ]\n",
      "[-0.78539816  0.          0.78539816]\n"
     ]
    }
   ],
   "source": [
    "x = [-1, 0, 1]\n",
    "print(x)\n",
    "print(np.arcsin(x))\n",
    "print(np.arccos(x))\n",
    "print(np.arctan(x))"
   ]
  },
  {
   "cell_type": "markdown",
   "metadata": {},
   "source": [
    "### 집계함수"
   ]
  },
  {
   "cell_type": "code",
   "execution_count": 49,
   "metadata": {},
   "outputs": [
    {
     "name": "stdout",
     "output_type": "stream",
     "text": [
      "[[1 6 3]\n",
      " [5 4 1]\n",
      " [9 6 1]]\n",
      "[[9 8 2]\n",
      " [7 2 8]\n",
      " [7 4 9]]\n",
      "210\n",
      "[[[[ 9  8  2]\n",
      "   [ 7  2  8]\n",
      "   [ 7  4  9]]\n",
      "\n",
      "  [[54 48 12]\n",
      "   [42 12 48]\n",
      "   [42 24 54]]\n",
      "\n",
      "  [[27 24  6]\n",
      "   [21  6 24]\n",
      "   [21 12 27]]]\n",
      "\n",
      "\n",
      " [[[45 40 10]\n",
      "   [35 10 40]\n",
      "   [35 20 45]]\n",
      "\n",
      "  [[36 32  8]\n",
      "   [28  8 32]\n",
      "   [28 16 36]]\n",
      "\n",
      "  [[ 9  8  2]\n",
      "   [ 7  2  8]\n",
      "   [ 7  4  9]]]\n",
      "\n",
      "\n",
      " [[[81 72 18]\n",
      "   [63 18 72]\n",
      "   [63 36 81]]\n",
      "\n",
      "  [[54 48 12]\n",
      "   [42 12 48]\n",
      "   [42 24 54]]\n",
      "\n",
      "  [[ 9  8  2]\n",
      "   [ 7  2  8]\n",
      "   [ 7  4  9]]]]\n",
      "[[ 72  32  77]\n",
      " [ 80  52  51]\n",
      " [130  88  75]]\n"
     ]
    }
   ],
   "source": [
    "a2 = np.random.randint(1, 10, size=(3, 3))\n",
    "b2 = np.random.randint(1, 10, size=(3, 3))\n",
    "print(a2)\n",
    "print(b2)\n",
    "print(np.tensordot(a2, b2)) # 벡터의 내적 (스칼라값)\n",
    "print(np.tensordot(a2, b2, axes=0))\n",
    "print(np.tensordot(a2, b2, axes=1))"
   ]
  },
  {
   "cell_type": "code",
   "execution_count": 50,
   "metadata": {},
   "outputs": [
    {
     "name": "stdout",
     "output_type": "stream",
     "text": [
      "[-3  6 -3]\n"
     ]
    }
   ],
   "source": [
    "x = [1, 2, 3]\n",
    "y = [4, 5, 6]\n",
    "print(np.cross(x, y)) # 벡터의 외적"
   ]
  },
  {
   "cell_type": "markdown",
   "metadata": {},
   "source": [
    "### 비교연산"
   ]
  },
  {
   "cell_type": "code",
   "execution_count": 52,
   "metadata": {},
   "outputs": [
    {
     "name": "stdout",
     "output_type": "stream",
     "text": [
      "[1 2 3 4 5 6 7 8 9]\n",
      "[False False False False  True False False False False]\n"
     ]
    }
   ],
   "source": [
    "a1 = np.arange(1, 10)\n",
    "print(a1)\n",
    "print(a1 == 5)"
   ]
  }
 ],
 "metadata": {
  "interpreter": {
   "hash": "63fd5069d213b44bf678585dea6b12cceca9941eaf7f819626cde1f2670de90d"
  },
  "kernelspec": {
   "display_name": "Python 3.9.2 64-bit",
   "language": "python",
   "name": "python3"
  },
  "language_info": {
   "codemirror_mode": {
    "name": "ipython",
    "version": 3
   },
   "file_extension": ".py",
   "mimetype": "text/x-python",
   "name": "python",
   "nbconvert_exporter": "python",
   "pygments_lexer": "ipython3",
   "version": "3.9.2"
  },
  "orig_nbformat": 4
 },
 "nbformat": 4,
 "nbformat_minor": 2
}
